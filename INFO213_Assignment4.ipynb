{
  "cells": [
    {
      "cell_type": "markdown",
      "metadata": {
        "id": "view-in-github",
        "colab_type": "text"
      },
      "source": [
        "<a href=\"https://colab.research.google.com/github/anyuanay/INFO213/blob/main/INFO213_Assignment4.ipynb\" target=\"_parent\"><img src=\"https://colab.research.google.com/assets/colab-badge.svg\" alt=\"Open In Colab\"/></a>"
      ]
    },
    {
      "cell_type": "markdown",
      "metadata": {
        "id": "2Km0XQRaaAvP"
      },
      "source": [
        "## Drexel University\n",
        "## College of Computing and Informatics\n",
        "## INFO 213: Data Science Programming II\n",
        "## Assignment 4\n",
        "## Due Date: Sunday, June 8, 2025\n",
        "## This assignment counts for 15% of the final grade\n"
      ]
    },
    {
      "cell_type": "code",
      "execution_count": null,
      "metadata": {
        "id": "zRxdEw_NF1Db"
      },
      "outputs": [],
      "source": [
        "import pandas as pd\n",
        "import numpy as np\n",
        "import matplotlib.pyplot as plt\n",
        "import random"
      ]
    },
    {
      "cell_type": "markdown",
      "source": [
        "# Question 1: Implement the Ensemble Method using Majority Vote for Classification\n",
        "\n",
        "- In this question, you will implement and evaluate the ensemble method using majority vote for classifying the wine dataset in Scikit Learn.\n",
        "- The ensemble should contain 4 individual classifiers: 1. Logistic Regression, 2. Decision Tree, 3. KNN, and 4. Multinomial Naive Bayes.\n",
        "- Only use the `ash` and `hue` columns of the wine data.\n"
      ],
      "metadata": {
        "id": "p0GPQxeSpTGn"
      }
    },
    {
      "cell_type": "markdown",
      "source": [
        "Step 1: Load the wine data from sklearn.datasets using `load_wine()`. Extract only `ash` and `hue` columns for feature matrix $X$. Extract the corresponding labels as $y$.\n"
      ],
      "metadata": {
        "id": "xW0gCvYKxfLn"
      }
    },
    {
      "cell_type": "code",
      "source": [],
      "metadata": {
        "id": "EAa2JtG1TKCC"
      },
      "execution_count": null,
      "outputs": []
    },
    {
      "cell_type": "code",
      "source": [],
      "metadata": {
        "id": "eEW4vJJjTMeg"
      },
      "execution_count": null,
      "outputs": []
    },
    {
      "cell_type": "markdown",
      "source": [
        "Step 2: Split the data into training and test sets by 50:50 ratio."
      ],
      "metadata": {
        "id": "Jm8oYpRMxjwW"
      }
    },
    {
      "cell_type": "code",
      "source": [],
      "metadata": {
        "id": "djA6ZK3dTLmR"
      },
      "execution_count": null,
      "outputs": []
    },
    {
      "cell_type": "code",
      "source": [],
      "metadata": {
        "id": "DkJKXQ7MTMQT"
      },
      "execution_count": null,
      "outputs": []
    },
    {
      "cell_type": "markdown",
      "source": [
        "Step 3: Creating 4 individual classifiers using default values: LogisticRegression, DecisionTree, MulitnomialNB, and KNN"
      ],
      "metadata": {
        "id": "hQRO8xVFxoDF"
      }
    },
    {
      "cell_type": "code",
      "source": [],
      "metadata": {
        "id": "-g2-geEETOSz"
      },
      "execution_count": null,
      "outputs": []
    },
    {
      "cell_type": "code",
      "source": [],
      "metadata": {
        "id": "YPVtckZdTOPr"
      },
      "execution_count": null,
      "outputs": []
    },
    {
      "cell_type": "markdown",
      "source": [
        "Step 4: Making pipelines for LogisticRegression and KNN with a StandardScaler step.\n"
      ],
      "metadata": {
        "id": "oc4OgXJmxsFK"
      }
    },
    {
      "cell_type": "code",
      "source": [],
      "metadata": {
        "id": "jrma9vN0TPfo"
      },
      "execution_count": null,
      "outputs": []
    },
    {
      "cell_type": "code",
      "source": [],
      "metadata": {
        "id": "hzpmeiV8TPcP"
      },
      "execution_count": null,
      "outputs": []
    },
    {
      "cell_type": "markdown",
      "source": [
        "Step 5: Fitting and evaluating the 4 individual classifiers/pipelines via 10-fold cross-validation. Using ACCURACY as scoring. **Print out the mean and standard deviation of the accuracy values across 10 folds for each individual classifier**."
      ],
      "metadata": {
        "id": "H5KwL7pDxv1A"
      }
    },
    {
      "cell_type": "code",
      "source": [],
      "metadata": {
        "id": "XFjn0kzhTRNa"
      },
      "execution_count": null,
      "outputs": []
    },
    {
      "cell_type": "code",
      "source": [],
      "metadata": {
        "id": "qa6wK5zqTRKI"
      },
      "execution_count": null,
      "outputs": []
    },
    {
      "cell_type": "markdown",
      "source": [
        "Step 6: Split the training set into 10 folds with stratification using `StratifiedKFold`."
      ],
      "metadata": {
        "id": "6rBHgn5cxzad"
      }
    },
    {
      "cell_type": "code",
      "source": [],
      "metadata": {
        "id": "V28nqmAnTSTJ"
      },
      "execution_count": null,
      "outputs": []
    },
    {
      "cell_type": "code",
      "source": [],
      "metadata": {
        "id": "WCucOmvETSL6"
      },
      "execution_count": null,
      "outputs": []
    },
    {
      "cell_type": "markdown",
      "source": [
        "Step 7: Implement the function `collect_predictions(clfs, X_train, y_train, X_val)`:"
      ],
      "metadata": {
        "id": "9gwLyhUcx2vt"
      }
    },
    {
      "cell_type": "code",
      "source": [
        "def collect_predictions(clfs, X_train, y_train, X_val):\n",
        "    \"\"\"\n",
        "        Given a list of classifiers, clfs, collect the predictions of each individual classifier.\n",
        "        For each classifier in the list, train the model on the training data and predict\n",
        "        the labels on the valiation data X_val\n",
        "        INPUT: clfs: a list of classifiers\n",
        "               X_train, y_train: training data\n",
        "               X_val: validation feature data\n",
        "        OUTPUT: predictions: a nested lists of predicted labels\n",
        "    \"\"\"\n",
        "\n",
        "    #### YOUR CODE HERE ######\n",
        "\n",
        "\n",
        "\n",
        ""
      ],
      "metadata": {
        "id": "LbBS2mg5xjDA"
      },
      "execution_count": null,
      "outputs": []
    },
    {
      "cell_type": "markdown",
      "source": [
        "Step 8: Implement the function `majority_votes(predictions)`"
      ],
      "metadata": {
        "id": "mZDLE27TFEYj"
      }
    },
    {
      "cell_type": "code",
      "source": [
        "def majority_votes(predictions):\n",
        "    \"\"\"\n",
        "        Compute the majority votes across classifiers\n",
        "        INPUT: predictions: a nested lists; each nested list contains the predicted labels by a classifier\n",
        "        OUPTUT: majority_votes: a list of majority votes across classifiers\n",
        "    \"\"\"\n",
        "\n",
        "    ##### YOUR CODE HERE ##########\n",
        "\n",
        "\n",
        "\n"
      ],
      "metadata": {
        "id": "Nh9jWLsvykKe"
      },
      "execution_count": null,
      "outputs": []
    },
    {
      "cell_type": "markdown",
      "source": [
        "Step 9: Evaluate ACCURACY of the ensemble of the 4 classifiers, [LogisticRegression, DecisionTreeClassifier, KNN, MultinomialNB] via the 10 folds. Compare to the accuracy values of individual classifiers at step 5. **Does the ensemble improve the accuracy values? Why or why not?**"
      ],
      "metadata": {
        "id": "CDIuy5SeJ-6y"
      }
    },
    {
      "cell_type": "code",
      "source": [],
      "metadata": {
        "id": "ooCKtG31TW1R"
      },
      "execution_count": null,
      "outputs": []
    },
    {
      "cell_type": "markdown",
      "source": [
        "**Discussion**:"
      ],
      "metadata": {
        "id": "sV_RAtrBAK5u"
      }
    },
    {
      "cell_type": "markdown",
      "source": [
        "Step 10: Train the 4 individual classifiers and the ensemble on the training data and evaluate their accuracy values on the test data. Compare the accuracy of the ensemble to that of the individual classifiers. **Does the ensemble improve the accuracy? Why or why not?**"
      ],
      "metadata": {
        "id": "7NUVezf6L7_k"
      }
    },
    {
      "cell_type": "markdown",
      "source": [
        "**Discussion**:"
      ],
      "metadata": {
        "id": "zQwQM6lcA1qM"
      }
    },
    {
      "cell_type": "code",
      "source": [],
      "metadata": {
        "id": "d7aHJ9XApfuL"
      },
      "execution_count": null,
      "outputs": []
    },
    {
      "cell_type": "code",
      "source": [],
      "metadata": {
        "id": "luSZMxP5VFFx"
      },
      "execution_count": null,
      "outputs": []
    },
    {
      "cell_type": "code",
      "source": [],
      "metadata": {
        "id": "TJpZ58ZvVE5h"
      },
      "execution_count": null,
      "outputs": []
    },
    {
      "cell_type": "markdown",
      "metadata": {
        "id": "JonBzpD19Dsp"
      },
      "source": [
        "# Question 2: Implement K-means Clustering Algorithm\n",
        "In this question, you are asked to implement the K-means clustering algorithm.\n",
        "\n",
        "The K-means clustering algorithm can be summarized by the following steps:\n",
        "1. Randomly pick $k$ centroids from the examples as initial cluster centers.\n",
        "2. Assign each example to the nearest centroid, $\\mu^{(j)}, j\\in\\{1..k\\}$.\n",
        "3. Move the centroids to the center of the examples that were assigned to it.\n",
        "4. Repeat steps 2 and 3 until the cluster assignments do not change or a user-defined tolerance or maximum number of iterations is reached.\n",
        "\n",
        "To measure the distance between a point to a centroid, we calculate the squared Euclidean distance between two points $x$ and $y$ in $m$-dimensional space as follows:\n",
        "\\begin{equation}\n",
        " d(x, y)^2 = \\Sigma_j^m(x_j-y_j)^2\n",
        "\\end{equation}"
      ]
    },
    {
      "cell_type": "code",
      "execution_count": null,
      "metadata": {
        "id": "QNzoy0PuRls0"
      },
      "outputs": [],
      "source": [
        "import pandas as pd\n",
        "import numpy as np\n",
        "import matplotlib.pyplot as plt\n",
        "import seaborn as sns"
      ]
    },
    {
      "cell_type": "markdown",
      "metadata": {
        "id": "FQA3VIfm_OfK"
      },
      "source": [
        "Step 1: The file `kmeans_examdata.csv` contains example 2D data that will help you test the implemented K-means algorithm. Load the data into a Pandas DataFrame. It has 3 columns, `x1`, `x2`, and `label`. Plot the points represented by `(x1, x2)` and color the points according to `label`.   "
      ]
    },
    {
      "cell_type": "code",
      "source": [],
      "metadata": {
        "id": "_LjMYR2JTi_J"
      },
      "execution_count": null,
      "outputs": []
    },
    {
      "cell_type": "code",
      "source": [],
      "metadata": {
        "id": "akGPynDZTi8B"
      },
      "execution_count": null,
      "outputs": []
    },
    {
      "cell_type": "markdown",
      "metadata": {
        "id": "fd93iM4Na-j6"
      },
      "source": [
        "Step 2: Implement the function `similarity(x, c)` that computes the squared Euclidean distance between two points `x` and `c`. Test the function on `x=[1, 2, 3]` and `c=[5, 7, 8]`. The result should be 66."
      ]
    },
    {
      "cell_type": "code",
      "execution_count": null,
      "metadata": {
        "id": "QnM7SKPLa9OA"
      },
      "outputs": [],
      "source": [
        "import numpy as np\n",
        "def similarity(x, c):\n",
        "    \"\"\"\n",
        "    calculate the squared Euclidean distance between two points\n",
        "    Input: x: an mx1 vector representing the first point in m dimensional space\n",
        "           c: an mx1 vector representing the second point in m dimensional space\n",
        "    Output: a value that is the squared Euclidean distance between x and c\n",
        "    \"\"\"\n",
        "\n",
        "    ##### YOUR CODE HERE ##########\n",
        "\n",
        ""
      ]
    },
    {
      "cell_type": "code",
      "execution_count": null,
      "metadata": {
        "id": "_X0aitQKcPt_"
      },
      "outputs": [],
      "source": [
        "x = np.array([1, 2, 3])\n",
        "c= np.array([5, 7, 8])"
      ]
    },
    {
      "cell_type": "code",
      "source": [
        "similarity(x, c)"
      ],
      "metadata": {
        "id": "bvkhnhUDTpsu"
      },
      "execution_count": null,
      "outputs": []
    },
    {
      "cell_type": "code",
      "source": [],
      "metadata": {
        "id": "vXfJhnC4Tpp9"
      },
      "execution_count": null,
      "outputs": []
    },
    {
      "cell_type": "markdown",
      "metadata": {
        "id": "Cs3PKCqpeDsi"
      },
      "source": [
        "Step 3: Implement the function `nearestCentroid(x, centroids)` that\n",
        "returns the index of the nearest centroid between a point `x` and the list of given centroids `centroids`.\n",
        "Test the function on `x=[1, 2, 3]` and `centroids=[[2, 4, 6], [1, 1, 1], [5, 7, 8]]`. The result should be 1."
      ]
    },
    {
      "cell_type": "code",
      "execution_count": null,
      "metadata": {
        "id": "MOEg8Aelex36"
      },
      "outputs": [],
      "source": [
        "def nearestCentroid(x, centroids):\n",
        "    \"\"\"\n",
        "    compute the index of nearest centroid between x and a list of centroids\n",
        "    Input: x: an mx1 vector representing a point\n",
        "           centroids: an Kxm matrix representing the list of K centroids\n",
        "    Output: the index of the nearest centroid (return the first if there is a tie.)\n",
        "    \"\"\"\n",
        "\n",
        "    ##### YOUR CODE HERE ##########\n",
        "\n",
        ""
      ]
    },
    {
      "cell_type": "code",
      "execution_count": 1,
      "metadata": {
        "id": "wij4Llbtf3B7"
      },
      "outputs": [],
      "source": [
        "x = [1, 2, 3]\n",
        "centroids=[[2, 4, 6], [1, 1, 1], [5, 7, 8]]"
      ]
    },
    {
      "cell_type": "code",
      "source": [
        "nearestCentroid(x, centroids)"
      ],
      "metadata": {
        "id": "cLChKvt2TyFj"
      },
      "execution_count": null,
      "outputs": []
    },
    {
      "cell_type": "code",
      "source": [],
      "metadata": {
        "id": "Y25VUsnZUmIr"
      },
      "execution_count": null,
      "outputs": []
    },
    {
      "cell_type": "markdown",
      "metadata": {
        "id": "GF3X5qwYZqhG"
      },
      "source": [
        "Step 4: Implement the function `findNearestCentroids(X, centroids)` that finds the indices of nearest centroids between the points in `X` and the list of centroids. This\n",
        "function takes the data matrix `X` and the locations of all centroids inside `centroids` and should output a one-dimensional array `idx` that holds the index (a value in $\\{1..K\\}$, where $K$ is total number of centroids) of the nearest centroid to every point in `X`. Test the function on `X=[[1, 2, 3], [2, 4, 5], [5, 6, 7], [7, 8, 9]] ` and `centroids=[[2, 4, 6], [1, 1, 1], [5, 7, 8]]`. The result should be `[1, 0, 2, 2]`."
      ]
    },
    {
      "cell_type": "code",
      "execution_count": null,
      "metadata": {
        "id": "my95IaJGWP5o"
      },
      "outputs": [],
      "source": [
        "def findNearestCentroids(X, centroids):\n",
        "    \"\"\"\n",
        "    compute the indices of nearest centroids between points in X and a list of centroids\n",
        "    Input: X: an nxm matrix representing n points\n",
        "           centroids: an Kxm representing the list of K centroids\n",
        "    Output: the indices of the nearest centroids (return the first if there is a tie.)\n",
        "    \"\"\"\n",
        "\n",
        "    ##### YOUR CODE HERE ##########\n",
        "\n",
        "\n",
        "\n",
        ""
      ]
    },
    {
      "cell_type": "code",
      "execution_count": 2,
      "metadata": {
        "id": "7vjt4qfeowZJ"
      },
      "outputs": [],
      "source": [
        "X=[[1, 2, 3], [2, 4, 5], [5, 6, 7], [7, 8, 9]]\n",
        "centroids=[[2, 4, 6], [1, 1, 1], [5, 7, 8]]"
      ]
    },
    {
      "cell_type": "code",
      "source": [
        "findNearestCentroids(X, centroids)"
      ],
      "metadata": {
        "id": "l6zAhPk0T3Qt"
      },
      "execution_count": null,
      "outputs": []
    },
    {
      "cell_type": "code",
      "source": [],
      "metadata": {
        "id": "hF0hYTJ-UlPo"
      },
      "execution_count": null,
      "outputs": []
    },
    {
      "cell_type": "markdown",
      "metadata": {
        "id": "c1rCyWrwpwxQ"
      },
      "source": [
        "Step 5: Implement the function `computeCentroids(X, labels)` to compute the new centroids of clusters. Given assignments of every point in `X` to a cluster indicated by `labels` (values in $\\{1..K\\}$, where $K$ is the number of clusters), the function computes the new centroid of a cluster $k$ as:\n",
        "\\begin{equation}\n",
        "\\mathbf{\\mu}_k = \\frac{1}{|cluster_k|}\\Sigma_i\\mathbf{x}^{(i)}\n",
        "\\end{equation}\n",
        "where, $|cluster_k|$ is the size of the cluter $k$, $\\mathbf{x}^{(i)}$ is the $i$_th point in cluster $k$. Test the function on `X= [[1, 2, 3], [2, 4, 5], [5, 6, 7], [7, 8, 9]]`\n",
        "and `labels = [1, 0, 2, 2]`. The result should be `array([[2., 4., 5.], [1., 2., 3.], [6., 7., 8.]])`."
      ]
    },
    {
      "cell_type": "code",
      "execution_count": null,
      "metadata": {
        "id": "5mYwbPwIpHny"
      },
      "outputs": [],
      "source": [
        "def computeCentroids(X, labels):\n",
        "    \"\"\"\n",
        "    compute new centroids for clusters indicated by labels\n",
        "    Input: X: an nxm matrix representing n points in m dimensional space\n",
        "           labels: an nx1 vectors representing K clusters\n",
        "    Output: an Kxm matrix representing the K new centroids of the K clusters\n",
        "    \"\"\"\n",
        "\n",
        "    ##### YOUR CODE HERE ##########\n",
        "\n",
        ""
      ]
    },
    {
      "cell_type": "code",
      "execution_count": null,
      "metadata": {
        "id": "q86u6MtctplS"
      },
      "outputs": [],
      "source": [
        "X= [[1, 2, 3], [2, 4, 5], [5, 6, 7], [7, 8, 9]]\n",
        "labels = [1, 0, 2, 2]"
      ]
    },
    {
      "cell_type": "code",
      "source": [
        "computeCentroids(X, labels)"
      ],
      "metadata": {
        "id": "Bm8ZqiObT8lF"
      },
      "execution_count": null,
      "outputs": []
    },
    {
      "cell_type": "code",
      "source": [],
      "metadata": {
        "id": "HdZGHPm7UkcS"
      },
      "execution_count": null,
      "outputs": []
    },
    {
      "cell_type": "markdown",
      "metadata": {
        "id": "lVBVFTCoxLsg"
      },
      "source": [
        "Step 6: Implement the function `randomInitialization(n, K)` that randomly picks up `K` points from a list of `n` numbers. Test the function on `n=100` and `K=3`."
      ]
    },
    {
      "cell_type": "code",
      "execution_count": null,
      "metadata": {
        "id": "QAGk1qg-x7t5"
      },
      "outputs": [],
      "source": [
        "def randomInitialization(n, K):\n",
        "  \"\"\"\n",
        "  Randomly picks up K different points from a list of n numbers.\n",
        "  Input: n: the number of numbers in the list\n",
        "         K: the number of points to be picked up\n",
        "  Output: a list of the indices of the picked up different points\n",
        "  \"\"\"\n",
        "\n",
        "  ##### YOUR CODE HERE ##########\n",
        "\n",
        "\n"
      ]
    },
    {
      "cell_type": "code",
      "source": [
        "randomInitialization(100, 3)"
      ],
      "metadata": {
        "id": "mbcYdQwFUAnL"
      },
      "execution_count": null,
      "outputs": []
    },
    {
      "cell_type": "code",
      "source": [],
      "metadata": {
        "id": "iZKs0fGiUjz-"
      },
      "execution_count": null,
      "outputs": []
    },
    {
      "cell_type": "markdown",
      "metadata": {
        "id": "0FENazaPzE-Z"
      },
      "source": [
        "Step 7: Implement the function `stopCondition(old_centroids, new_centroids, iteration, max_iterations, tol=1e-4)` that returns whether the K-means algorithm should stop. Test the function on `old_centroids =[[2, 4, 6], [1, 1, 1], [5, 7, 8]]`,\n",
        "`new_centroids = [[2., 4., 5.], [1., 2., 3.], [6., 7., 8.]]`, and some values of other parameters. Verify the results are correct."
      ]
    },
    {
      "cell_type": "code",
      "execution_count": null,
      "metadata": {
        "id": "1N_94n5RyjCX"
      },
      "outputs": [],
      "source": [
        "def stopCondition(old_centroids, new_centroids, iteration, max_iterations, tol):\n",
        "    \"\"\"\n",
        "    Stop condition for K-means clustering.\n",
        "    Input:\n",
        "        old_centroids: Centroids from the previous iteration\n",
        "        new_centroids: Centroids from the current iteration\n",
        "        iteration: Current iteration number\n",
        "        max_iterations: Maximum number of iterations allowed\n",
        "        tol: Tolerance level for centroid change\n",
        "\n",
        "    Output: a boolean value True if the stop condition is met, False otherwise.\n",
        "    \"\"\"\n",
        "\n",
        "    ##### YOUR CODE HERE ##########\n",
        "\n",
        "    # Check if the maximum number of iterations is reached\n",
        "\n",
        "\n",
        "\n",
        ""
      ]
    },
    {
      "cell_type": "code",
      "execution_count": null,
      "metadata": {
        "id": "JFaavMuu2X23"
      },
      "outputs": [],
      "source": [
        "old_centroids =[[2, 4, 6], [1, 1, 1], [5, 7, 8]]\n",
        "new_centroids = [[2., 4., 5.], [1., 2., 3.], [6., 7., 8.]]"
      ]
    },
    {
      "cell_type": "code",
      "source": [
        "stopCondition(old_centroids, new_centroids, 5, 10, 1)"
      ],
      "metadata": {
        "id": "33FyxToQUEns"
      },
      "execution_count": null,
      "outputs": []
    },
    {
      "cell_type": "code",
      "source": [],
      "metadata": {
        "id": "VXb125QoUhFn"
      },
      "execution_count": null,
      "outputs": []
    },
    {
      "cell_type": "markdown",
      "metadata": {
        "id": "hcpBsaBP3U4a"
      },
      "source": [
        "Step 8: Now implement the `kmeans(X, K, max_iterations, tol)` algorithm by calling the functions that have been implemented above. The K-means function should return the final cluster labels of the input points in `X` and the centroids of the `K` clusters. Test the function on the example 2D data on `K=3`, `max_iterations=100`, and `tol=0.01`. Assign the labels to `labels` and centroids to `centroids`."
      ]
    },
    {
      "cell_type": "code",
      "execution_count": null,
      "metadata": {
        "id": "ANh8UAOI2vbH"
      },
      "outputs": [],
      "source": [
        "def kmeans(X, K, max_iterations, tol):\n",
        "    \"\"\"\n",
        "    K-means algorithm that clusters the input data in X to K clusters.\n",
        "    Input: X: an nxm matrix representing n points in m dimenstional space\n",
        "           K: the number of clusters\n",
        "           max_interations: a stop condition on number of iterations\n",
        "           tol: a stop condition on centroid changes\n",
        "    Output: labels: an nx1 vector representing the cluster labels for the input points\n",
        "            centroids: an Kxm matrix representing the centroids of the K clusters\n",
        "    \"\"\"\n",
        "\n",
        "    ##### YOUR CODE HERE ##########\n",
        "\n",
        "\n",
        "\n",
        "\n"
      ]
    },
    {
      "cell_type": "code",
      "execution_count": null,
      "metadata": {
        "colab": {
          "base_uri": "https://localhost:8080/"
        },
        "id": "55wpbTCK9uvq",
        "outputId": "84b3827a-7add-4b9a-ed59-fb795b986022"
      },
      "outputs": [
        {
          "output_type": "execute_result",
          "data": {
            "text/plain": [
              "array([[-1.09510311,  2.76883068],\n",
              "       [ 1.54632313,  4.212973  ],\n",
              "       [-1.51086098,  3.02795241],\n",
              "       ...,\n",
              "       [ 1.06948835,  0.65402058],\n",
              "       [-2.13052613,  2.42495237],\n",
              "       [ 1.48677436,  1.04432973]])"
            ]
          },
          "metadata": {},
          "execution_count": 193
        }
      ],
      "source": [
        "df.iloc[:, :2].values"
      ]
    },
    {
      "cell_type": "code",
      "execution_count": null,
      "metadata": {
        "id": "ZUZQfBB59QAt"
      },
      "outputs": [],
      "source": [
        "labels, centroids = kmeans(df.iloc[:, :2].values, 3, 100, 0.01)"
      ]
    },
    {
      "cell_type": "code",
      "source": [],
      "metadata": {
        "id": "FN3-cEUKUgEl"
      },
      "execution_count": null,
      "outputs": []
    },
    {
      "cell_type": "markdown",
      "metadata": {
        "id": "ME1I9_GF-nji"
      },
      "source": [
        "Step 9: Compute the accuracy of the results of the `kmeans()` function comparing to the true labels in the original 2D data. **Discuss the results with outlining how to improve.**"
      ]
    },
    {
      "cell_type": "code",
      "source": [],
      "metadata": {
        "id": "JH9EyFEmUNhZ"
      },
      "execution_count": null,
      "outputs": []
    },
    {
      "cell_type": "code",
      "source": [],
      "metadata": {
        "id": "Hja108-RUNdq"
      },
      "execution_count": null,
      "outputs": []
    },
    {
      "cell_type": "markdown",
      "source": [
        "**Discussion:**"
      ],
      "metadata": {
        "id": "C218vjBkVSUu"
      }
    },
    {
      "cell_type": "code",
      "source": [],
      "metadata": {
        "id": "DqZhHycBVXTQ"
      },
      "execution_count": null,
      "outputs": []
    },
    {
      "cell_type": "markdown",
      "metadata": {
        "id": "zZuY6Y1lAeXg"
      },
      "source": [
        "Step 10: Plot the original 2D data colored by the labels computered by the `kmeans()` function. Also, show the centroids on the plot. **Discuss the results: is the clustering good? why or why not?**"
      ]
    },
    {
      "cell_type": "code",
      "execution_count": null,
      "metadata": {
        "id": "F4uiCFuiARdX"
      },
      "outputs": [],
      "source": []
    },
    {
      "cell_type": "code",
      "source": [],
      "metadata": {
        "id": "K3PkfET9UO4O"
      },
      "execution_count": null,
      "outputs": []
    },
    {
      "cell_type": "markdown",
      "source": [
        "**Discussion:**"
      ],
      "metadata": {
        "id": "mYCSpaj2UPOF"
      }
    },
    {
      "cell_type": "code",
      "source": [],
      "metadata": {
        "id": "SMgaZXqsUQ2F"
      },
      "execution_count": null,
      "outputs": []
    }
  ],
  "metadata": {
    "colab": {
      "provenance": [],
      "include_colab_link": true
    },
    "kernelspec": {
      "display_name": "Python 3 (ipykernel)",
      "language": "python",
      "name": "python3"
    },
    "language_info": {
      "codemirror_mode": {
        "name": "ipython",
        "version": 3
      },
      "file_extension": ".py",
      "mimetype": "text/x-python",
      "name": "python",
      "nbconvert_exporter": "python",
      "pygments_lexer": "ipython3",
      "version": "3.11.5"
    }
  },
  "nbformat": 4,
  "nbformat_minor": 0
}