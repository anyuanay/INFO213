{
  "cells": [
    {
      "cell_type": "markdown",
      "metadata": {
        "id": "view-in-github",
        "colab_type": "text"
      },
      "source": [
        "<a href=\"https://colab.research.google.com/github/anyuanay/INFO213/blob/main/INFO213_Week1_GivingComputerAbilityToLearn.ipynb\" target=\"_parent\"><img src=\"https://colab.research.google.com/assets/colab-badge.svg\" alt=\"Open In Colab\"/></a>"
      ]
    },
    {
      "cell_type": "markdown",
      "metadata": {
        "id": "4dYQKc2PHACn"
      },
      "source": [
        "# INFO 213: Data Science Programming 2\n",
        "\n",
        "\n",
        "## Week 1: Giving Computers the Ability to Learn from Data\n",
        "\n"
      ]
    },
    {
      "cell_type": "markdown",
      "source": [
        "**Overview**\n",
        "- [Learn the fundamentals for using AI tools effectively]()\n",
        "- [Building intelligent machines to transform data into knowledge](#Building-intelligent-machines-to-transform-data-into-knowledge)\n",
        "- [Different types of machine learning](#The-three-different-types-of-machine-learning)\n",
        "    - [Classification for predicting class labels](#Classification-for-predicting-class-labels)\n",
        "    - [Regression for predicting continuous outcomes](#Regression-for-predicting-continuous-outcomes)\n",
        "    - [Solving interactive problems with reinforcement learning](#Solving-interactive-problems-with-reinforcement-learning)\n",
        "    - [Discovering hidden structures with unsupervised learning](#Discovering-hidden-structures-with-unsupervised-learning)\n",
        "- [An introduction to the basic terminology and notations](#basic-terminology)\n",
        " - [Feature Matrix](#feature-matrix)\n",
        "- [A roadmap for building machine learning systems](#A-roadmap-for-building-machine-learning-systems)\n",
        "- [Introduction to Scikit-Learn](#Introduction-to-Scikit-Learn)\n",
        "- [Supervised learning example: Simple linear regression](#supervised-example)"
      ],
      "metadata": {
        "id": "bdQLpfhMqhlL"
      }
    },
    {
      "cell_type": "markdown",
      "source": [
        "## Learn the Fundamentals before Using AI\n",
        "\n",
        "- Real-world human-AI synergy in data science workflow\n",
        "\n",
        "\n",
        "![](https://github.com/anyuanay/INFO213/blob/main/human-AI-synergy-data-science.png?raw=true)\n",
        "\n",
        "- **You must know the fundamentals in order to effectively use A.I. tools.**\n",
        "\n",
        "- My suggestion to learn fundamentals when using Colab\n",
        "\n",
        "![](https://github.com/anyuanay/INFO213/blob/main/disable-AI-colab.png?raw=true)\n"
      ],
      "metadata": {
        "id": "a2QVrYlBWlnt"
      }
    },
    {
      "cell_type": "markdown",
      "source": [
        "## Different Types of Machine Learning"
      ],
      "metadata": {
        "id": "R-ecI4bNogDx"
      }
    },
    {
      "cell_type": "markdown",
      "metadata": {
        "id": "s1htzRSLlyyl"
      },
      "source": [
        "### Classification for predicting class labels\n",
        "- Given a set of training data with labels, A and B.\n",
        "- Each data point is defined by two features $x_1$ and $x_2$.\n",
        "- Learn a model that separates the data points with different lables.\n",
        "- Use the model to predict the label of a new data point.\n",
        "\n",
        "<img src=\"https://github.com/rasbt/machine-learning-book/raw/main/ch01/figures/01_03.png\" width=\"500px\">"
      ]
    },
    {
      "cell_type": "markdown",
      "metadata": {
        "id": "FSO4T_gSlyyl"
      },
      "source": [
        "### Regression for predicting continuous outcomes\n",
        "- Given a set of data points $(x_i, y_i)$.\n",
        "- Each $x_i$ is associated with a real value $y_i$.\n",
        "- Learn a model between $x_i$ and $y_i$.\n",
        "- Predict the $y$ value of a new value $x$.\n",
        "\n",
        "<img src=\"https://github.com/rasbt/machine-learning-book/raw/main/ch01/figures/01_04.png\" width=\"500px\">"
      ]
    },
    {
      "cell_type": "markdown",
      "metadata": {
        "id": "jNt5D4Lflyyl"
      },
      "source": [
        "### Solving interactive problems with reinforcement learning\n",
        "- Given an environment with states $ s_t $ and actions $ a_t $.  \n",
        "- Each action $ a_t $ taken in state $ s_t $ results in a reward $ r_t $ and transitions the agent to a new state $ s_{t+1} $.  \n",
        "- Learn a policy $ \\pi(a \\mid s) $ that maps states to actions to maximize cumulative rewards over time.  \n",
        "- Predict the optimal action $ a $ for a new state $ s $ to achieve long-term success.\n",
        "\n",
        "<img src=\"https://github.com/rasbt/machine-learning-book/raw/main/ch01/figures/01_05.png\" width=\"500px\">"
      ]
    },
    {
      "cell_type": "markdown",
      "metadata": {
        "id": "7niGmBONlyyl"
      },
      "source": [
        "### Finding subgroups with clustering\n",
        "- Given a set of data points without labeled outcomes.  \n",
        "- Each data point represents a feature vector $(x_1, x_2)$.  \n",
        "- Learn a model to group the data into $ k $ clusters based on similarity.  \n",
        "- Predict the cluster assignment for a new data point $ (\\hat{x_1}, \\hat{x_2}) $.\n",
        "\n",
        "<img src=\"https://github.com/rasbt/machine-learning-book/raw/main/ch01/figures/01_06.png\" width=\"500px\">"
      ]
    },
    {
      "cell_type": "markdown",
      "metadata": {
        "id": "22y0lF9Wlyym"
      },
      "source": [
        "## An introduction to the basic terminology and notations\n",
        "- Training example: A row in a table representing the dataset and synonymous with an observation, record, instance, or sample (in most contexts, sample refers to a collection of training examples).\n",
        "- Feature, abbrev. $X$: A column in a data table or data (design) matrix. Synonymous with predictor, variable, input, attribute, or covariate.\n",
        "- Target, abbrev. $y$: Synonymous with outcome, output, response variable, dependent variable, (class) label, and ground truth.\n",
        "- Training: Model fitting, for parametric models similar to parameter estimation.\n",
        "\n",
        "<img src=\"https://github.com/rasbt/machine-learning-book/raw/main/ch01/figures/01_08.png\" width=\"600px\">"
      ]
    },
    {
      "cell_type": "markdown",
      "metadata": {
        "deletable": true,
        "editable": true,
        "id": "J3tvGO77HACr"
      },
      "source": [
        "### Feature Matrix\n",
        "- The training data can be thought of as a two-dimensional numerical array or matrix, which we will call the features matrix. By convention, this features matrix is often stored in a variable named $X$.\n",
        "-\n",
        "The features matrix is assumed to be two-dimensional, with shape [n_samples, n_features], and is most often contained in a NumPy array or a Pandas DataFrame.\n",
        "\n",
        "- In addition to the feature matrix $X$, we also generally work with a label or target array, which by convention we will usually call $y$. The target array is usually one dimensional, with length n_samples, and is generally contained in a NumPy array or Pandas Series."
      ]
    },
    {
      "cell_type": "markdown",
      "metadata": {
        "deletable": true,
        "editable": true,
        "id": "r90pvaSuHACr"
      },
      "source": [
        "![](https://i.imgur.com/UEtv9Dv.png)"
      ]
    },
    {
      "cell_type": "markdown",
      "metadata": {
        "id": "wJZQtSX_lyyr"
      },
      "source": [
        "## A roadmap for building machine learning systems\n",
        "\n",
        "<img src=\"https://github.com/rasbt/machine-learning-book/raw/main/ch01/figures/01_09.png\" width=\"700px\">"
      ]
    },
    {
      "cell_type": "markdown",
      "source": [
        "# Retrieval Practice"
      ],
      "metadata": {
        "id": "kFqt9D5lqjBb"
      }
    },
    {
      "cell_type": "markdown",
      "metadata": {
        "id": "kJyd2HU6HACq"
      },
      "source": [
        "## Introducing Scikit-Learn"
      ]
    },
    {
      "cell_type": "markdown",
      "metadata": {
        "deletable": true,
        "editable": true,
        "id": "Tp0SNkfQHACq"
      },
      "source": [
        "There are several Python libraries which provide solid implementations of a range of machine learning algorithms.\n",
        "One of the best known is [Scikit-Learn](http://scikit-learn.org), a package that provides efficient versions of a large number of common algorithms."
      ]
    },
    {
      "cell_type": "markdown",
      "metadata": {
        "deletable": true,
        "editable": true,
        "id": "_o97JGyiHACr"
      },
      "source": [
        "### Basics of the API\n",
        "\n",
        "Most commonly, the steps in using the Scikit-Learn estimator API are as follows.\n",
        "\n",
        "1. Choose a class of model by importing the appropriate estimator class from Scikit-Learn.\n",
        "2. Choose model hyperparameters by instantiating this class with desired values.\n",
        "3. Arrange data into a features matrix and target vector following the discussion above.\n",
        "4. Fit the model to your data by calling the ``fit()`` method of the model instance.\n",
        "5. Apply the Model to new data:\n",
        "   - For supervised learning, often we predict labels for unknown data using the ``predict()`` method.\n",
        "   - For unsupervised learning, we often transform or infer properties of the data using the ``transform()`` or ``predict()`` method."
      ]
    },
    {
      "cell_type": "markdown",
      "metadata": {
        "deletable": true,
        "editable": true,
        "id": "1tKET55nHACr"
      },
      "source": [
        "## Supervised learning example: Simple linear regression\n",
        "\n",
        "As an example of this process, let's consider a simple linear regression—that is, the common case of fitting a line to $(x, y)$ data.\n",
        "We will use the following simple data for our regression example:"
      ]
    },
    {
      "cell_type": "markdown",
      "metadata": {
        "deletable": true,
        "editable": true,
        "id": "NYXyVdmoHACr"
      },
      "source": [
        "```\n",
        "import matplotlib.pyplot as plt\n",
        "import numpy as np\n",
        "\n",
        "rng = np.random.RandomState(42)\n",
        "x = 10 * rng.rand(50)\n",
        "y = 2 * x - 1 + rng.randn(50)\n",
        "plt.scatter(x, y);\n",
        "```"
      ]
    },
    {
      "cell_type": "markdown",
      "metadata": {
        "deletable": true,
        "editable": true,
        "id": "4DcYJjH5HACs"
      },
      "source": [
        "With this data in place, we can use the recipe outlined earlier. Let's walk through the process:"
      ]
    },
    {
      "cell_type": "markdown",
      "metadata": {
        "deletable": true,
        "editable": true,
        "id": "dJA41dy0HACs"
      },
      "source": [
        "### 1. Choose a class of model\n",
        "\n",
        "In Scikit-Learn, every class of model is represented by a Python class.\n",
        "So, for example, if we would like to compute a simple linear regression model, we can import the linear regression class:"
      ]
    },
    {
      "cell_type": "markdown",
      "metadata": {
        "deletable": true,
        "editable": true,
        "id": "SANqxkD-HACs"
      },
      "source": [
        "```\n",
        "from sklearn.linear_model import LinearRegression\n",
        "```"
      ]
    },
    {
      "cell_type": "markdown",
      "metadata": {
        "deletable": true,
        "editable": true,
        "id": "cV_feBJtHACs"
      },
      "source": [
        "### 2. Choose model hyperparameters\n",
        "\n",
        "An important point is that *a class of model is not the same as an instance of a model*.\n",
        "\n",
        "Once we have decided on our model class, there are still some options open to us.\n",
        "Depending on the model class we are working with, we might need to answer one or more questions like the following:\n",
        "\n",
        "- Would we like to fit for the offset (i.e., *y*-intercept)?\n",
        "- Would we like the model to be normalized?\n",
        "- Would we like to preprocess our features to add model flexibility?\n",
        "- What degree of regularization would we like to use in our model?\n",
        "- How many model components would we like to use?\n",
        "\n",
        "These are examples of the important choices that must be made *once the model class is selected*.\n",
        "These choices are often represented as *hyperparameters*, or parameters that must be set before the model is fit to data.\n",
        "In Scikit-Learn, hyperparameters are chosen by passing values at model instantiation.\n",
        "\n",
        "\n",
        "For our linear regression example, we can instantiate the ``LinearRegression`` class and specify that we would like to fit the intercept using the ``fit_intercept`` hyperparameter:"
      ]
    },
    {
      "cell_type": "markdown",
      "metadata": {
        "deletable": true,
        "editable": true,
        "id": "2Vs3WKw6HACs"
      },
      "source": [
        "```\n",
        "model = LinearRegression(fit_intercept=True)\n",
        "model\n",
        "```"
      ]
    },
    {
      "cell_type": "markdown",
      "metadata": {
        "deletable": true,
        "editable": true,
        "id": "8Vp0XhqPHACs"
      },
      "source": [
        "### 3. Arrange data into a features matrix and target vector\n",
        "\n",
        "Here our target variable ``y`` is already in the correct form (a length-``n_samples`` array), but we need to massage the data ``x`` to make it a matrix of size ``[n_samples, n_features]``.\n",
        "In this case, this amounts to a simple reshaping of the one-dimensional array:"
      ]
    },
    {
      "cell_type": "markdown",
      "metadata": {
        "deletable": true,
        "editable": true,
        "id": "tL2hSAUzHACs"
      },
      "source": [
        "```\n",
        "X = x[:, np.newaxis]\n",
        "X.shape\n",
        "```"
      ]
    },
    {
      "cell_type": "markdown",
      "metadata": {
        "deletable": true,
        "editable": true,
        "id": "X6giNKi2HAC3"
      },
      "source": [
        "### 4. Fit the model to your data\n",
        "\n",
        "Now it is time to apply our model to data.\n",
        "This can be done with the ``fit()`` method of the model:"
      ]
    },
    {
      "cell_type": "markdown",
      "metadata": {
        "deletable": true,
        "editable": true,
        "id": "xDBPkcZ7HAC3"
      },
      "source": [
        "```\n",
        "model.fit(X, y)\n",
        "```"
      ]
    },
    {
      "cell_type": "markdown",
      "metadata": {
        "deletable": true,
        "editable": true,
        "id": "zObrxQT1HAC3"
      },
      "source": [
        "This ``fit()`` command causes a number of model-dependent internal computations to take place, and the results of these computations are stored in model-specific attributes that the user can explore.\n",
        "In Scikit-Learn, by convention all model parameters that were learned during the ``fit()`` process have trailing underscores; for example in this linear model, we have the following:"
      ]
    },
    {
      "cell_type": "markdown",
      "metadata": {
        "deletable": true,
        "editable": true,
        "id": "l9MKO0zuHAC3"
      },
      "source": [
        "```\n",
        "model.coef_\n",
        "```"
      ]
    },
    {
      "cell_type": "markdown",
      "metadata": {
        "deletable": true,
        "editable": true,
        "id": "BLXMM0EgHAC3"
      },
      "source": [
        "```\n",
        "model.intercept_\n",
        "```"
      ]
    },
    {
      "cell_type": "markdown",
      "metadata": {
        "deletable": true,
        "editable": true,
        "id": "vQ6Km3nkHAC4"
      },
      "source": [
        "These two parameters represent the slope and intercept of the simple linear fit to the data.\n",
        "Comparing to the data definition, we see that they are very close to the input slope of 2 and intercept of -1."
      ]
    },
    {
      "cell_type": "markdown",
      "metadata": {
        "deletable": true,
        "editable": true,
        "id": "PUKq8bxMHAC4"
      },
      "source": [
        "### 5. Predict labels for unknown data\n",
        "\n",
        "Once the model is trained, the main task of supervised machine learning is to evaluate it based on what it says about new data that was not part of the training set.\n",
        "In Scikit-Learn, this can be done using the ``predict()`` method.\n",
        "For the sake of this example, our \"new data\" will be a grid of *x* values, and we will ask what *y* values the model predicts:"
      ]
    },
    {
      "cell_type": "markdown",
      "metadata": {
        "deletable": true,
        "editable": true,
        "id": "8e-1DfH3HAC4"
      },
      "source": [
        "```\n",
        "xfit = np.linspace(-1, 11)\n",
        "```"
      ]
    },
    {
      "cell_type": "markdown",
      "metadata": {
        "deletable": true,
        "editable": true,
        "id": "5QJ-CSRvHAC4"
      },
      "source": [
        "As before, we need to coerce these *x* values into a ``[n_samples, n_features]`` features matrix, after which we can feed it to the model:"
      ]
    },
    {
      "cell_type": "markdown",
      "metadata": {
        "deletable": true,
        "editable": true,
        "id": "BBA1GvPwHAC4"
      },
      "source": [
        "```\n",
        "Xfit = xfit[:, np.newaxis]\n",
        "yfit = model.predict(Xfit)\n",
        "```"
      ]
    },
    {
      "cell_type": "markdown",
      "metadata": {
        "deletable": true,
        "editable": true,
        "id": "SMn1I1RTHAC4"
      },
      "source": [
        "Finally, let's visualize the results by plotting first the raw data, and then this model fit:"
      ]
    },
    {
      "cell_type": "markdown",
      "metadata": {
        "deletable": true,
        "editable": true,
        "id": "PvqAXkVMHAC4"
      },
      "source": [
        "```\n",
        "plt.scatter(x, y)\n",
        "plt.plot(xfit, yfit);\n",
        "```"
      ]
    },
    {
      "cell_type": "code",
      "execution_count": null,
      "metadata": {
        "id": "XMSZoj0UHAC4"
      },
      "outputs": [],
      "source": []
    },
    {
      "cell_type": "markdown",
      "source": [
        "# Retrieval Practice"
      ],
      "metadata": {
        "id": "4BqdX5Z_qnAa"
      }
    },
    {
      "cell_type": "code",
      "source": [],
      "metadata": {
        "id": "RpDKJL69qpDm"
      },
      "execution_count": null,
      "outputs": []
    }
  ],
  "metadata": {
    "colab": {
      "provenance": [],
      "include_colab_link": true
    },
    "kernelspec": {
      "display_name": "Python 3 (ipykernel)",
      "language": "python",
      "name": "python3"
    },
    "language_info": {
      "codemirror_mode": {
        "name": "ipython",
        "version": 3
      },
      "file_extension": ".py",
      "mimetype": "text/x-python",
      "name": "python",
      "nbconvert_exporter": "python",
      "pygments_lexer": "ipython3",
      "version": "3.11.5"
    }
  },
  "nbformat": 4,
  "nbformat_minor": 0
}