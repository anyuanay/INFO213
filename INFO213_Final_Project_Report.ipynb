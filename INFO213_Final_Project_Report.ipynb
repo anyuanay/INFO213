{
  "cells": [
    {
      "cell_type": "markdown",
      "metadata": {
        "id": "view-in-github",
        "colab_type": "text"
      },
      "source": [
        "<a href=\"https://colab.research.google.com/github/anyuanay/INFO213/blob/main/INFO213_Final_Project_Report.ipynb\" target=\"_parent\"><img src=\"https://colab.research.google.com/assets/colab-badge.svg\" alt=\"Open In Colab\"/></a>"
      ]
    },
    {
      "cell_type": "markdown",
      "metadata": {
        "id": "gQOyYK9E7qoU"
      },
      "source": [
        "### College of Computing and Informatics, Drexel University\n",
        "### INFO 213: Data Science Programming II\n",
        "---\n",
        "\n",
        "## Final Project Report\n",
        "\n",
        "## Project Title:\n",
        "\n",
        "## Student(s):\n",
        "\n",
        "## Date:\n",
        "---"
      ]
    },
    {
      "cell_type": "markdown",
      "metadata": {
        "id": "6mMpIyk672Ah"
      },
      "source": [
        "## Your project should include the following components:\n",
        "- Problem Definition: Define a clear problem or task to solve using machine learning techniques. It could be classification, regression, clustering, or another relevant task.\n",
        "\n",
        "- Dataset Selection: You must choose a dataset relevant to your interests or a specific domain. The dataset should be of sufficient size and complexity to demonstrate various machine learning techniques.\n",
        "\n",
        "- Exploratory Data Analysis (EDA): You need to perform thorough EDA on the dataset to understand its characteristics, identify patterns, missing values, outliers, and potential features for modeling.\n",
        "\n",
        "- Feature Engineering: Implement feature engineering for creating new features, transforming existing ones, or selecting relevant features.\n",
        "\n",
        "- Model Evaluation and Selection: Experiment with different machine learning algorithms and hyperparameters. Evaluate the models using appropriate evaluation metrics\n",
        "\n",
        "- Conclusion: Discuss your findings and future work.\n",
        "\n",
        "## You should write the report with following characristics to ensure effective communication:\n",
        "- Visualization and Interpretation: You should use visulization throughout EDA, modeling, and evaluation to illustrate any insights.\n",
        "\n",
        "- Code and Implementation: Throughout the notebook, you must write well-structured and commented code.\n",
        "\n",
        "- Documentation and Presentation: Throughout the notebook, you must add comprehensive commentary text to explain plots and code snippets. Always provide interpretations and explanations to document your analyses and results."
      ]
    },
    {
      "cell_type": "markdown",
      "metadata": {
        "id": "oKZnMElj7qoW"
      },
      "source": [
        "### 1. Problem Definition\n",
        "---\n",
        "*(Define the problem that will be solved in this data analytics project.)*"
      ]
    },
    {
      "cell_type": "code",
      "execution_count": null,
      "metadata": {
        "id": "MzLEXU-t7qoW"
      },
      "outputs": [],
      "source": []
    },
    {
      "cell_type": "markdown",
      "metadata": {
        "id": "jW-Znace7qoW"
      },
      "source": [
        "### 2. Data Sets\n",
        "---\n",
        "*(Describe the origin of the data sources. What is the format of the original data? How to access the data?)*"
      ]
    },
    {
      "cell_type": "code",
      "execution_count": null,
      "metadata": {
        "id": "uvBASP9d7qoW"
      },
      "outputs": [],
      "source": []
    },
    {
      "cell_type": "markdown",
      "metadata": {
        "id": "uY_PvC857qoX"
      },
      "source": [
        "### 3. Exploration and Feature Engineering\n",
        "---\n",
        "*(Describe and present any code and methods used for exploring and visualizing the data, including statistical analysis and examination of correlations between features. Perform feature engineering to support model development.)*"
      ]
    },
    {
      "cell_type": "code",
      "execution_count": null,
      "metadata": {
        "id": "B8K5gtxt7qoX"
      },
      "outputs": [],
      "source": []
    },
    {
      "cell_type": "markdown",
      "metadata": {
        "id": "52CLnHGw7qoX"
      },
      "source": [
        "### 4. Modeling and Evaluation\n",
        "---\n",
        "*(Describe and present the predictive models built on the data and evaluate the performance of the models for solving the problem)*"
      ]
    },
    {
      "cell_type": "code",
      "execution_count": null,
      "metadata": {
        "id": "t1fthHN27qoX"
      },
      "outputs": [],
      "source": []
    },
    {
      "cell_type": "markdown",
      "metadata": {
        "id": "REiq9oR57qoX"
      },
      "source": [
        "### 5. Conclusion\n",
        "---\n",
        "*(Briefly describe what you have done and what you discovered. Discuss any shortcomings of the process and results. Propose future work. **Finally, discuss the lessons learned from doing the project**.)*"
      ]
    },
    {
      "cell_type": "code",
      "execution_count": null,
      "metadata": {
        "id": "gCHTiT-u7qoX"
      },
      "outputs": [],
      "source": []
    },
    {
      "cell_type": "markdown",
      "metadata": {
        "id": "J5tOZ3Wm7qoX"
      },
      "source": [
        "### 6. References"
      ]
    },
    {
      "cell_type": "code",
      "execution_count": null,
      "metadata": {
        "id": "ZiMlqsKz7qoX"
      },
      "outputs": [],
      "source": []
    },
    {
      "cell_type": "markdown",
      "metadata": {
        "id": "1fIbMSMw7qoX"
      },
      "source": [
        "---\n",
        "(*Use the following requirements for writing your reports. DO NOT DELETE THE CELLS BELLOW*)"
      ]
    },
    {
      "cell_type": "markdown",
      "metadata": {
        "id": "QvTH8rlO7qoX"
      },
      "source": [
        "# Project Requirements\n",
        "\n",
        "This final project examines the level of knowledge the students have learned from the course. The following course outcomes will be checked against the content of the report:\n",
        "\n",
        "Upon successful completion of this course, a student will be able to:\n",
        "* Describe the key Python tools and libraries that related to a typical data analytics project.\n",
        "* Identify data science libraries, frameworks, modules, and toolkits in Python that efficiently implement the most common data science algorithms and techniques.\n",
        "* Apply latest Python techniques in data acquisition, transformation and predictive analytics for data science projects.\n",
        "* Discuss the underlying principles and main characteristics of the most common methods and techniques for data analytics.\n",
        "* Build data analytic and predictive models for real world data sets using existing Python libraries.\n",
        "\n",
        "** Marking will be foucsed on both presentation and content.**\n",
        "\n",
        "## Written Presentation Requirements\n",
        "The report will be judged on the basis of visual appearance, grammatical correctness, and quality of writing, as well as its contents. Please make sure that the text of your report is well-structured, using paragraphs, full sentences, and other features of well-written presentation.\n",
        "\n",
        "## Technical Content:\n",
        "* Is the problem well defined and described thoroughly?\n",
        "* Is the size and complexity of the data set used in this project comparable to that of the example data sets used in the lectures and assignments?\n",
        "* Did the report describe the charactriatics of the data?\n",
        "* Did the report describe the goals of the data analysis?\n",
        "* Did the analysis conduct exploratory analyses on the data?\n",
        "* Did the analysis build models of the data and evaluate the performance of the models?\n",
        "* Overall, what is the rating of this project?"
      ]
    },
    {
      "cell_type": "code",
      "execution_count": null,
      "metadata": {
        "id": "kYn3mvol7qoX"
      },
      "outputs": [],
      "source": []
    }
  ],
  "metadata": {
    "colab": {
      "provenance": [],
      "include_colab_link": true
    },
    "kernelspec": {
      "display_name": "Python 3 (ipykernel)",
      "language": "python",
      "name": "python3"
    },
    "language_info": {
      "codemirror_mode": {
        "name": "ipython",
        "version": 3
      },
      "file_extension": ".py",
      "mimetype": "text/x-python",
      "name": "python",
      "nbconvert_exporter": "python",
      "pygments_lexer": "ipython3",
      "version": "3.11.5"
    }
  },
  "nbformat": 4,
  "nbformat_minor": 0
}